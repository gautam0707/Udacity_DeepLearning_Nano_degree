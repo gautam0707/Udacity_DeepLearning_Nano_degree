{
 "cells": [
  {
   "cell_type": "code",
   "execution_count": 2,
   "metadata": {
    "collapsed": true
   },
   "outputs": [],
   "source": [
    "import numpy as np"
   ]
  },
  {
   "cell_type": "code",
   "execution_count": 6,
   "metadata": {
    "collapsed": true
   },
   "outputs": [],
   "source": [
    "class NeuralNetwork():\n",
    "    def __init__(self):\n",
    "        # Seed the random number generator, so it generates the same \n",
    "        # numbers every time the program runs\n",
    "        np.random.seed(1)\n",
    "        \n",
    "        # We model a single neuron with 3 input connections and one\n",
    "        # output connection        \n",
    "        self.synaptic_weights = 2 * np.random.random((3,1)) - 1\n",
    "    # The sigmoid function, which describes an s shaped curve.\n",
    "    # we pass the weighted sum of the inputs through this function\n",
    "    # to normalize between 0 and 1\n",
    "    def sigmoid(self, x):\n",
    "        return 1/(1 + np.exp(-x))\n",
    "    \n",
    "    def sigmoid_derivative(self, x):\n",
    "        return x * (1 - x)\n",
    "    \n",
    "    def predict(self, inputs):\n",
    "        return self.sigmoid(np.dot(inputs, self.synaptic_weights)\n",
    "                           )\n",
    "    def train(self, training_set_inputs, training_set_outputs,\n",
    "             number_of_training_iterations):\n",
    "        for i in range(number_of_training_iterations):\n",
    "            # pass the input through our neural net\n",
    "            output = self.predict(training_set_inputs)\n",
    "            \n",
    "            # calculate error\n",
    "            error = training_set_outputs - output\n",
    "            \n",
    "            # adjustment in the weights\n",
    "            adjustment = np.dot(training_set_inputs.T, error* self.sigmoid_derivative(output))\n",
    "            \n",
    "            self.synaptic_weights += adjustment"
   ]
  },
  {
   "cell_type": "code",
   "execution_count": 7,
   "metadata": {
    "collapsed": false
   },
   "outputs": [
    {
     "name": "stdout",
     "output_type": "stream",
     "text": [
      "Random starting synaptic weights\n",
      "[[-0.16595599]\n",
      " [ 0.44064899]\n",
      " [-0.99977125]]\n",
      "New synaptic weights after training: \n",
      "[[ 9.67299303]\n",
      " [-0.2078435 ]\n",
      " [-4.62963669]]\n",
      "Consideraing new situation [1, 0, 0] --> ?: \n",
      "[ 0.99993704]\n"
     ]
    }
   ],
   "source": [
    "if __name__ == \"__main__\":\n",
    "    # initialize a single neuron neural network\n",
    "    neural_network = NeuralNetwork()\n",
    "    \n",
    "    print(\"Random starting synaptic weights\")\n",
    "    print(neural_network.synaptic_weights)\n",
    "    \n",
    "    # The training set, we have 4 examples,\n",
    "    # each containing 3 input values and one ouput value.\n",
    "    training_set_inputs = np.array([[0, 0, 1], [1, 1, 1], [1, 0, 1], [0, 1 , 1]])\n",
    "    training_set_outputs = np.array([[0, 1, 1, 0]]).T\n",
    "    \n",
    "    # Train Neural network using a training set.\n",
    "    # Do it 10,000 times and make small adjustments each time.\n",
    "    neural_network.train(training_set_inputs, training_set_outputs,10000)\n",
    "    \n",
    "    print(\"New synaptic weights after training: \")\n",
    "    print(neural_network.synaptic_weights)\n",
    "    \n",
    "    # Test the neural network with a new situation\n",
    "    print(\"Consideraing new situation [1, 0, 0] --> ?: \")\n",
    "    print(neural_network.predict(np.array([1, 0, 0])))\n"
   ]
  },
  {
   "cell_type": "code",
   "execution_count": null,
   "metadata": {
    "collapsed": true
   },
   "outputs": [],
   "source": []
  }
 ],
 "metadata": {
  "kernelspec": {
   "display_name": "Python 3",
   "language": "python",
   "name": "python3"
  },
  "language_info": {
   "codemirror_mode": {
    "name": "ipython",
    "version": 3
   },
   "file_extension": ".py",
   "mimetype": "text/x-python",
   "name": "python",
   "nbconvert_exporter": "python",
   "pygments_lexer": "ipython3",
   "version": "3.5.2"
  }
 },
 "nbformat": 4,
 "nbformat_minor": 2
}
