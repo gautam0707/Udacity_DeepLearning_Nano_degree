{
 "cells": [
  {
   "cell_type": "markdown",
   "metadata": {
    "deletable": true,
    "editable": true
   },
   "source": [
    "# Linear Regression using Numpy "
   ]
  },
  {
   "cell_type": "markdown",
   "metadata": {
    "deletable": true,
    "editable": true
   },
   "source": [
    "### Source: https://github.com/llSourcell/linear_regression_live"
   ]
  },
  {
   "cell_type": "code",
   "execution_count": 9,
   "metadata": {
    "collapsed": false,
    "deletable": true,
    "editable": true
   },
   "outputs": [
    {
     "name": "stdout",
     "output_type": "stream",
     "text": [
      "Error before training  5565.10783448\n",
      "b =  0.0889365199374\n",
      "m =  1.47774408519\n",
      "Error after training  112.614810116\n"
     ]
    },
    {
     "data": {
      "image/png": "[encoded data removed]",
      "text/plain": [
       "<matplotlib.figure.Figure at 0x7f98c2158eb8>"
      ]
     },
     "metadata": {},
     "output_type": "display_data"
    }
   ],
   "source": [
    "%matplotlib inline\n",
    "import numpy as np\n",
    "import matplotlib.pyplot as plt\n",
    "import matplotlib.animation as animation\n",
    "from matplotlib import style\n",
    "\n",
    "style.use('fivethirtyeight')\n",
    "fig = plt.figure()\n",
    "ax1 = fig.add_subplot(1,1,1)\n",
    "\n",
    "def animate(b, m, points):\n",
    "    pass\n",
    "      \n",
    "    \n",
    "def compute_error_given_points(b, m, points):\n",
    "    # error caused by the model that uses b, m\n",
    "    return sum([(i[1] - (m*i[0] + b))**2 for i in points])/len(points)\n",
    "\n",
    "def step_gradient(curr_b, curr_m, points, learning_rate):\n",
    "    # gradient descent\n",
    "    next_b = curr_b - learning_rate * ((-2/len(points)) * sum([(i[1] - (curr_m*i[0] + curr_b)) for i in points]))\n",
    "    next_m = curr_m - learning_rate * ((-2/len(points)) * sum([ i[0]*(i[1] - (curr_m*i[0] + curr_b)) for i in points]))\n",
    "    animate(next_b, next_m, points)\n",
    "    return next_b, next_m    \n",
    "\n",
    "def gradient_descent_runner(points, initial_b, initial_m, learning_rate, number_of_iterations):\n",
    "    b, m = initial_b, initial_m\n",
    "    for i in range(number_of_iterations):\n",
    "        b, m = step_gradient(b, m, points, learning_rate)\n",
    "    return b, m\n",
    "\n",
    "def run():\n",
    "    # use 'genfromtext' helper from numpy to load data from csv, default delimiter is ','\n",
    "    points = np.genfromtxt('data.csv', delimiter=',')\n",
    "    \n",
    "    # a hyper parameter, how fast our model learns!\n",
    "    learning_rate = 1e-4\n",
    "    \n",
    "    # lets fit y=mx+c\n",
    "    # m, b are parameters to our model.\n",
    "    initial_b = initial_m = 0        \n",
    "    \n",
    "    number_of_iterations = 1000\n",
    "    \n",
    "    print(\"Error before training \", compute_error_given_points(initial_b, initial_m, points))\n",
    "    # learn the parameters\n",
    "    b, m = gradient_descent_runner(points, initial_b, initial_m, learning_rate, number_of_iterations)\n",
    "    \n",
    "    print(\"b = \",b)\n",
    "    print(\"m = \",m)\n",
    "    print(\"Error after training \", compute_error_given_points(b, m, points))\n",
    "    \n",
    "    x = np.linspace(1,100)\n",
    "    y = m*x+b    \n",
    "    ax1.plot(x,y) \n",
    "    xs = [i[0] for i in points]\n",
    "    ys = [i[1] for i in points]    \n",
    "    ax1.scatter(xs, ys)  \n",
    "\n",
    "if __name__ == \"__main__\":\n",
    "    run()"
   ]
  },
  {
   "cell_type": "markdown",
   "metadata": {
    "deletable": true,
    "editable": true
   },
   "source": [
    "## Gradient Descent Variants\n",
    "* Simple Gradient Descet\n",
    "* Mini Batch Gradient Descent\n",
    "* Stochastic Gradient Descent"
   ]
  },
  {
   "cell_type": "markdown",
   "metadata": {},
   "source": [
    "### Simple Gradient Descent"
   ]
  },
  {
   "cell_type": "raw",
   "metadata": {},
   "source": [
    "for i in range(nb_epochs): --> number of iterations\n",
    "    params_grad = evaluate_gradient(loss_function, data, params) --> calculate gradient using cost taking all data!\n",
    "    params = params - learning_rate * params_grad --> param update"
   ]
  },
  {
   "cell_type": "markdown",
   "metadata": {},
   "source": [
    "### Mini Batch Gradient Descent"
   ]
  },
  {
   "cell_type": "raw",
   "metadata": {},
   "source": [
    "for i in range(nb_epochs): --> number of iterations\n",
    "    np.random.shuffle(data) --> shuffle data each time\n",
    "    for batch in get_batches(data, batch_size=50): --> take a batch of training set in this case 50\n",
    "        params_grad = evaluate_gradient(loss_function, batch, params)\n",
    "        params = params - learning_rate * params_grad"
   ]
  },
  {
   "cell_type": "markdown",
   "metadata": {},
   "source": [
    "### Stochastic Gradient Descent"
   ]
  },
  {
   "cell_type": "raw",
   "metadata": {},
   "source": [
    "for i in range(nb_epochs):\n",
    "    np.random.shuffle(data)\n",
    "    for example in data: --> parameter update with each data element, to reduce huge computation in SimpleSGD\n",
    "        params_grad = evaluate_gradient(loss_function, example, params)\n",
    "        params = params - learning_rate * params_grad"
   ]
  },
  {
   "cell_type": "markdown",
   "metadata": {
    "collapsed": true,
    "deletable": true,
    "editable": true
   },
   "source": [
    "#### In the above code line number 21 & 22 show parameter updates using learning rate, there are many other variants as follows \n",
    "for more details http://ruder.io/optimizing-gradient-descent/\n",
    "#### Different parameter update methods are\n",
    "* Simple Gradient Update\n",
    "* Momentum\n",
    "* Nesterov accelerated gradient\n",
    "* Adagrad\n",
    "* Adadelta\n",
    "* RMSprop\n",
    "* Adam\n",
    "* AdaMax\n",
    "* Nadam\n"
   ]
  }
 ],
 "metadata": {
  "kernelspec": {
   "display_name": "Python 3",
   "language": "python",
   "name": "python3"
  },
  "language_info": {
   "codemirror_mode": {
    "name": "ipython",
    "version": 3
   },
   "file_extension": ".py",
   "mimetype": "text/x-python",
   "name": "python",
   "nbconvert_exporter": "python",
   "pygments_lexer": "ipython3",
   "version": "3.5.2"
  }
 },
 "nbformat": 4,
 "nbformat_minor": 2
}
